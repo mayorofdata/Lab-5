{
  "nbformat": 4,
  "nbformat_minor": 0,
  "metadata": {
    "colab": {
      "name": "language_model.ipynb",
      "provenance": [],
      "collapsed_sections": [],
      "include_colab_link": true
    },
    "kernelspec": {
      "name": "python3",
      "display_name": "Python 3"
    },
    "accelerator": "GPU"
  },
  "cells": [
    {
      "cell_type": "markdown",
      "metadata": {
        "id": "view-in-github",
        "colab_type": "text"
      },
      "source": [
        "<a href=\"https://colab.research.google.com/github/mayorofdata/Lab-5/blob/master/language_model.ipynb\" target=\"_parent\"><img src=\"https://colab.research.google.com/assets/colab-badge.svg\" alt=\"Open In Colab\"/></a>"
      ]
    },
    {
      "cell_type": "code",
      "metadata": {
        "id": "yTA7r-UtLIkk",
        "colab_type": "code",
        "colab": {
          "base_uri": "https://localhost:8080/",
          "height": 122
        },
        "outputId": "9b5a4ea6-be3d-49b2-8ca0-e31f3d6e09f1"
      },
      "source": [
        "from google.colab import drive\n",
        "drive.mount('/content/drive')"
      ],
      "execution_count": 1,
      "outputs": [
        {
          "output_type": "stream",
          "text": [
            "Go to this URL in a browser: https://accounts.google.com/o/oauth2/auth?client_id=947318989803-6bn6qk8qdgf4n4g3pfee6491hc0brc4i.apps.googleusercontent.com&redirect_uri=urn%3aietf%3awg%3aoauth%3a2.0%3aoob&response_type=code&scope=email%20https%3a%2f%2fwww.googleapis.com%2fauth%2fdocs.test%20https%3a%2f%2fwww.googleapis.com%2fauth%2fdrive%20https%3a%2f%2fwww.googleapis.com%2fauth%2fdrive.photos.readonly%20https%3a%2f%2fwww.googleapis.com%2fauth%2fpeopleapi.readonly\n",
            "\n",
            "Enter your authorization code:\n",
            "··········\n",
            "Mounted at /content/drive\n"
          ],
          "name": "stdout"
        }
      ]
    },
    {
      "cell_type": "code",
      "metadata": {
        "id": "hgjoDE-OJRgI",
        "colab_type": "code",
        "colab": {}
      },
      "source": [
        "from fastai.text import *\n",
        "\n",
        "path = \"/content/drive/My Drive/DATA-475/imdb\""
      ],
      "execution_count": 2,
      "outputs": []
    },
    {
      "cell_type": "code",
      "metadata": {
        "id": "Ng9a7n9kste4",
        "colab_type": "code",
        "colab": {
          "base_uri": "https://localhost:8080/",
          "height": 17
        },
        "outputId": "1286cd67-3ec8-4d75-84fa-93fae06e1281"
      },
      "source": [
        "# create TextLMDataBunch using the csv in path\n",
        "#     remember to specify the text column\n",
        "data_lm = TextLMDataBunch.from_csv(\n",
        "    path,\n",
        "    \"train.csv\",\n",
        "    text_cols=\"review\"\n",
        ")"
      ],
      "execution_count": 3,
      "outputs": [
        {
          "output_type": "display_data",
          "data": {
            "text/html": [
              ""
            ],
            "text/plain": [
              "<IPython.core.display.HTML object>"
            ]
          },
          "metadata": {
            "tags": []
          }
        },
        {
          "output_type": "display_data",
          "data": {
            "text/html": [
              ""
            ],
            "text/plain": [
              "<IPython.core.display.HTML object>"
            ]
          },
          "metadata": {
            "tags": []
          }
        }
      ]
    },
    {
      "cell_type": "code",
      "metadata": {
        "id": "NCVGVEOWsS_G",
        "colab_type": "code",
        "colab": {
          "base_uri": "https://localhost:8080/",
          "height": 17
        },
        "outputId": "c7daefad-d5d4-4373-e8ae-286d21c6055a"
      },
      "source": [
        "# create TextClasDataBunch using the csv in path\n",
        "#     remember to specify the text/label column\n",
        "#     specify test dataset, vocab, and bs\n",
        "data_clas = TextClasDataBunch.from_csv(\n",
        "    path,\n",
        "    \"train.csv\",\n",
        "    test=\"test.csv\",\n",
        "    text_cols=\"review\",\n",
        "    label_cols=\"sentiment\",\n",
        "    vocab=data_lm.train_ds.vocab,\n",
        "    bs=32,\n",
        ")"
      ],
      "execution_count": 4,
      "outputs": [
        {
          "output_type": "display_data",
          "data": {
            "text/html": [
              ""
            ],
            "text/plain": [
              "<IPython.core.display.HTML object>"
            ]
          },
          "metadata": {
            "tags": []
          }
        },
        {
          "output_type": "display_data",
          "data": {
            "text/html": [
              ""
            ],
            "text/plain": [
              "<IPython.core.display.HTML object>"
            ]
          },
          "metadata": {
            "tags": []
          }
        },
        {
          "output_type": "display_data",
          "data": {
            "text/html": [
              ""
            ],
            "text/plain": [
              "<IPython.core.display.HTML object>"
            ]
          },
          "metadata": {
            "tags": []
          }
        }
      ]
    },
    {
      "cell_type": "code",
      "metadata": {
        "id": "WcrrDK7-aT0v",
        "colab_type": "code",
        "colab": {
          "base_uri": "https://localhost:8080/",
          "height": 34
        },
        "outputId": "1a154385-b2eb-4302-f03b-bee4d7d3f30c"
      },
      "source": [
        "# create language model learner with AWD_LSTM architecture and drop_mult of 0.5\n",
        "lm_learner = language_model_learner(data_lm, arch=AWD_LSTM, drop_mult=.5)"
      ],
      "execution_count": 5,
      "outputs": [
        {
          "output_type": "stream",
          "text": [
            "Downloading https://s3.amazonaws.com/fast-ai-modelzoo/wt103-fwd.tgz\n"
          ],
          "name": "stdout"
        },
        {
          "output_type": "display_data",
          "data": {
            "text/html": [
              ""
            ],
            "text/plain": [
              "<IPython.core.display.HTML object>"
            ]
          },
          "metadata": {
            "tags": []
          }
        }
      ]
    },
    {
      "cell_type": "code",
      "metadata": {
        "id": "XnMFnhvZVM8k",
        "colab_type": "code",
        "colab": {
          "base_uri": "https://localhost:8080/",
          "height": 408
        },
        "outputId": "9ccf305b-2d13-4c07-b2a3-61aee435ef5b"
      },
      "source": [
        "# find a learing rate\n",
        "lm_learner.lr_find()\n",
        "lm_learner.recorder.plot(suggestion=True)"
      ],
      "execution_count": 6,
      "outputs": [
        {
          "output_type": "display_data",
          "data": {
            "text/html": [
              "\n",
              "    <div>\n",
              "        <style>\n",
              "            /* Turns off some styling */\n",
              "            progress {\n",
              "                /* gets rid of default border in Firefox and Opera. */\n",
              "                border: none;\n",
              "                /* Needs to be in here for Safari polyfill so background images work as expected. */\n",
              "                background-size: auto;\n",
              "            }\n",
              "            .progress-bar-interrupted, .progress-bar-interrupted::-webkit-progress-bar {\n",
              "                background: #F44336;\n",
              "            }\n",
              "        </style>\n",
              "      <progress value='0' class='' max='1' style='width:300px; height:20px; vertical-align: middle;'></progress>\n",
              "      0.00% [0/1 00:00<00:00]\n",
              "    </div>\n",
              "    \n",
              "<table border=\"1\" class=\"dataframe\">\n",
              "  <thead>\n",
              "    <tr style=\"text-align: left;\">\n",
              "      <th>epoch</th>\n",
              "      <th>train_loss</th>\n",
              "      <th>valid_loss</th>\n",
              "      <th>accuracy</th>\n",
              "      <th>time</th>\n",
              "    </tr>\n",
              "  </thead>\n",
              "  <tbody>\n",
              "  </tbody>\n",
              "</table><p>\n",
              "\n",
              "    <div>\n",
              "        <style>\n",
              "            /* Turns off some styling */\n",
              "            progress {\n",
              "                /* gets rid of default border in Firefox and Opera. */\n",
              "                border: none;\n",
              "                /* Needs to be in here for Safari polyfill so background images work as expected. */\n",
              "                background-size: auto;\n",
              "            }\n",
              "            .progress-bar-interrupted, .progress-bar-interrupted::-webkit-progress-bar {\n",
              "                background: #F44336;\n",
              "            }\n",
              "        </style>\n",
              "      <progress value='99' class='' max='1335' style='width:300px; height:20px; vertical-align: middle;'></progress>\n",
              "      7.42% [99/1335 00:57<12:02 12.0377]\n",
              "    </div>\n",
              "    "
            ],
            "text/plain": [
              "<IPython.core.display.HTML object>"
            ]
          },
          "metadata": {
            "tags": []
          }
        },
        {
          "output_type": "stream",
          "text": [
            "LR Finder is complete, type {learner_name}.recorder.plot() to see the graph.\n",
            "Min numerical gradient: 9.12E-07\n",
            "Min loss divided by 10: 3.31E-03\n"
          ],
          "name": "stdout"
        },
        {
          "output_type": "display_data",
          "data": {
            "image/png": "[encoded data removed]",
            "text/plain": [
              "<Figure size 432x288 with 1 Axes>"
            ]
          },
          "metadata": {
            "tags": [],
            "needs_background": "light"
          }
        }
      ]
    },
    {
      "cell_type": "code",
      "metadata": {
        "id": "B9DZ8FALAw7r",
        "colab_type": "code",
        "colab": {
          "base_uri": "https://localhost:8080/",
          "height": 111
        },
        "outputId": "d5660e67-5257-4b54-f72b-464b123b2f9e"
      },
      "source": [
        "# fit one cycle\n",
        "lr = lm_learner.recorder.min_grad_lr\n",
        "lm_learner.fit_one_cycle(2, lr)"
      ],
      "execution_count": 7,
      "outputs": [
        {
          "output_type": "display_data",
          "data": {
            "text/html": [
              "<table border=\"1\" class=\"dataframe\">\n",
              "  <thead>\n",
              "    <tr style=\"text-align: left;\">\n",
              "      <th>epoch</th>\n",
              "      <th>train_loss</th>\n",
              "      <th>valid_loss</th>\n",
              "      <th>accuracy</th>\n",
              "      <th>time</th>\n",
              "    </tr>\n",
              "  </thead>\n",
              "  <tbody>\n",
              "    <tr>\n",
              "      <td>0</td>\n",
              "      <td>4.685271</td>\n",
              "      <td>4.482455</td>\n",
              "      <td>0.262578</td>\n",
              "      <td>14:44</td>\n",
              "    </tr>\n",
              "    <tr>\n",
              "      <td>1</td>\n",
              "      <td>4.673829</td>\n",
              "      <td>4.480662</td>\n",
              "      <td>0.262765</td>\n",
              "      <td>14:45</td>\n",
              "    </tr>\n",
              "  </tbody>\n",
              "</table>"
            ],
            "text/plain": [
              "<IPython.core.display.HTML object>"
            ]
          },
          "metadata": {
            "tags": []
          }
        }
      ]
    },
    {
      "cell_type": "code",
      "metadata": {
        "id": "3ZIbQuXSKS5V",
        "colab_type": "code",
        "colab": {}
      },
      "source": [
        "# save the encoder\n",
        "lm_learner.save_encoder(\"model\")"
      ],
      "execution_count": 8,
      "outputs": []
    },
    {
      "cell_type": "code",
      "metadata": {
        "id": "OFGrAyvQvXLH",
        "colab_type": "code",
        "colab": {
          "base_uri": "https://localhost:8080/",
          "height": 35
        },
        "outputId": "0f60546e-fca0-49a8-bac0-16b7380c2540"
      },
      "source": [
        "lm_learner.predict(\"this movie talks about Canadian\", n_words=20)"
      ],
      "execution_count": 9,
      "outputs": [
        {
          "output_type": "execute_result",
          "data": {
            "application/vnd.google.colaboratory.intrinsic+json": {
              "type": "string"
            },
            "text/plain": [
              "'this movie talks about Canadian shark attacks in 1962 , inflicts ( 1979 ) , and 1977 ( 1981 ) . Schneider explained that'"
            ]
          },
          "metadata": {
            "tags": []
          },
          "execution_count": 9
        }
      ]
    },
    {
      "cell_type": "code",
      "metadata": {
        "id": "p-Jv0yyyJWmN",
        "colab_type": "code",
        "colab": {
          "base_uri": "https://localhost:8080/",
          "height": 1000
        },
        "outputId": "2c443263-afbc-45e0-d335-c8f460a68ff4"
      },
      "source": [
        "clas_learner = text_classifier_learner(data_clas, arch=AWD_LSTM, drop_mult=0.5)\n",
        "clas_learner.load_encoder(\"model\")"
      ],
      "execution_count": 10,
      "outputs": [
        {
          "output_type": "execute_result",
          "data": {
            "text/plain": [
              "RNNLearner(data=TextClasDataBunch;\n",
              "\n",
              "Train: LabelList (19999 items)\n",
              "x: TextList\n",
              "xxbos xxup wow ! xxmaj what - a - movie xxrep 11 ! i 'm not at all a fan of contemporary xxmaj italian directors . xxmaj usually i do n't like dramas . i am not a xxmaj will xxmaj smith super fan even thinking that he is a very good actor xxrep 6 . but this movie ! xxmaj it is such a great movie with a such original script and so good direction and so well acting ... wow ... it is stunning . xxmaj this movie captured my attention minute by minute and i even did not like \" xxmaj the pursuit of happiness \" ( maybe also because i did not like the acting of xxmaj will 's son who is a very bad actor while children usually seems all natural born actors , i saw him also last night in \" xxmaj the day the earth stood still \" and i confirmed my sensation that xxmaj xxunk ca n't act ) . i do n't want to write spoilers and so i do n't talk about the story but what i can say is that this movie talks about xxmaj love , xxmaj death and other feelings which i do n't like to watch in movies xxrep 4 . but xxup this xxup movie is such a super great movie . xxmaj if you have a minimum of heart you 'll do n't regret watching it,xxbos xxmaj when many people say it 's the \" worst movie i 've ever seen \" , they tend to say that about virtually any movie they did n't like . xxmaj however , of the nearly 700 movies i can remember ever seeing this one is one of two that i walked away from feeling personally insulted and angry . xxmaj this is my first movie review , by the way , and i registered with imdb just to rave at this movie 's badness . i went to see it when it was in the theaters ( myself and my two buddies were 3 of 5 people there ) , and after 15 years i ca n't remember very many specifics , but my attitude upon leaving the theater is still crystal xxunk alert --- xxmaj oh my , where to begin . xxmaj fat loser left at altar , goes on ski weekend , meets blonde bombshell who takes an interest in him , takes him home to meet the family , they 're all cannibals and he 's the main course , pathetic attempt at a dramatic escape , kicks all their butts and runs off with the brother 's girlfriend , they live happily ever after . xxmaj puke . xxmaj firstly , the gags are so bad that it took me a while to understand that they were trying to be xxup funny , and that this was a xxup comedy . xxmaj the special effects , what few there are , look like they were done 15 years earlier . xxmaj the big dramatic ending was so hokey and poorly acted that it was nearly unbearable to watch ( he knocks out the entire cannibal family with rakes laying in the lawn , that stand up xxmaj tom and xxmaj jerry style when they step on them ) . i 'm sure that there 's much , much more , but i have no intention on seeing it again for a refresher .,xxbos xxmaj the film is pretty confusing and ludicrous . xxmaj the plot is awful ... but on the plus side the acting is pretty good , with a few good shouts and rants . xxmaj sharon stone is xxup ok this time ... not even half as good as the original mind you . xxmaj the murders are n't as gory as the first one either , which is a shame . xxmaj its not the unpredictable mess everyone say it is though . xxmaj the sex is pretty graphic at times while others it is clear it is fake ( they are fully clothed ) . xxmaj the script is weak most of the time , but the scenes with banter and arguments between xxmaj dr . xxmaj glass and xxmaj washburn are highlights . xxmaj the plot twists a few times , but the ending is awful . xxmaj the tension is always constant with a huge dollop of ' xxmaj oh my god ! ' . xxmaj the chase sequences are brilliantly directed , and shots and camera angles are impressive and bring a bit of class to an otherwise , rush - felt film . xxmaj sharon stone is a bit old for this too . xxmaj the bits where we see her breasts were , in the first one , delights . xxmaj this time around , they are too horrid to describe . xxmaj the films its self is rather average , but it is worth a go . xxmaj mainly because the film does deserve some good buzz ... with the opening sequence being a highlight . xxmaj not to be critical , but if you liked the first one - leave this one . xxmaj do n't ruin the run . xxmaj you 'll be glad you left this stone unturned .,xxbos xxmaj at first glance i expected this film to be crappy because i thought the plot would be so excessively feminist . xxmaj but i was wrong . xxmaj as you maybe have read in earlier published comments , i agree in that the feminist part in this film does not bother . i never had the idea that the main character was exaggerating her position as a woman . xxmaj it 's like xxmaj guzman is presented as somebody with a spine , this in contrast to her classmates . xxmaj so i was surprised by the story , in fact , i thought it was quite good , except for the predictable end . xxmaj maybe it would 've been a better idea to give the plot a radical twist , so that the viewer is somewhat more surprised . xxmaj in addition , i 'd like to say that xxmaj rodriguez earned her respect by the way she put away her character . i ca n't really explain why , but especially in the love scenes she convinced me . xxmaj it just looked real i think . i gave it a 7 out of 10 , merely because of the dull last half hour .,xxbos xxmaj an excellent movie about two cops loving the same woman . xxmaj one of the cop ( xxmaj périer ) killed her , but all the evidences seems to incriminate the other ( xxmaj montand ) . xxmaj the unlucky xxmaj montand does nt know who is the other lover that could have killed her , and xxmaj périer does nt know either that xxmaj montand had an affair with the girl . xxmaj montand must absolutely find the killer ... and what a great ending ! xxmaj highly recommended .\n",
              "y: CategoryList\n",
              "positive,negative,negative,positive,positive\n",
              "Path: /content/drive/My Drive/DATA-475/imdb;\n",
              "\n",
              "Valid: LabelList (5001 items)\n",
              "x: TextList\n",
              "xxbos xxmaj if xxmaj bob xxmaj ludlum was to see this mini series , he would have cried . xxmaj this was complete waste of time and money . i have read the book and even though movies are not exactly what the book may be , xxup cbs wasted time and money on this and it is embarrassing to claim that this was xxmaj ludlum 's work . xxmaj may be the creator should check out the xxmaj bourne xxmaj identity with xxmaj richard xxmaj chamberlain and see how good that xxup tv series was . xxmaj poor xxmaj mira , xxmaj blair , xxmaj anjelica and xxmaj colm , why did they sign to stoop this xxunk ! !,xxbos xxmaj this show had a lot of hype but i did n't know about it until the xxunk ( season 1 ) . xxmaj someone even recommended the show to me . xxmaj but i decided that if i was going to watch it , i was going to wait until the end of the season so i could watch it in bulk . xxmaj due to the show 's format , i 'm happy i waited . i imagine it would have been fairly annoying have nearly every episode end in the middle of some cliff hanger then have to wait another week to find out what happens in the next second of the story . xxmaj somehow , this show has managed to throw in too much sex . xxmaj jason will have sex with pretty much anything that moves . xxmaj right after he finds out that one woman he had sex with was killed , he 's in bed with another woman the next night ! xxmaj then xxmaj tara and xxmaj sam get it on , despite each of them knowing that xxmaj sam is in love with xxmaj sookie . xxmaj and for some reason , xxmaj sookie gets mad when she later finds out about it -- even though she 's sleeping with a vampire . xxmaj one of the problems with the show , is that it does n't do a good job of making you care about the characters . i really did n't care for xxmaj jason at all . xxmaj along with his endless pursuit of tale , he was rude to the people who actually were concerned for him . xxmaj after a few episodes , i would n't have minded if he got killed somehow . xxmaj for that reason , i was for the most part uninterested in the murders until xxmaj sookie 's xxmaj grandmother became a victim ( since the first two were more closely involved with xxunk once xxmaj sookie and xxmaj bill have sex , the story gets a few more subplots . xxmaj tara 's mother wants an exorcism , then the exorcist lady tries to convince xxmaj tara that she should have one to remove her own demon . i was n't so much bothered by the whole exorcism thing as i know there are some people who really believe in that stuff . xxmaj however , they waste little time in showing that is it a farce right after xxmaj tara spends about $ xxunk on xxunk for her and her mother . xxmaj at other points , some of the developments happen too fast . xxmaj jason continues being a jerk , trying to sell his xxmaj grandmother 's stuff to buy vampire blood , which apparently is the new crack or something . xxmaj in his search he finds this girl who will do v ( vampire blood ) with him . xxmaj they get high , and within three days fall in love with each other and kidnap a vampire for a constant source of xxup v. xxmaj another example is when xxmaj bill has to go to a vampire tribunal . xxmaj he 's only gone for two days before xxmaj sookie starts to feel abandoned and start to wonder if he thinks \" vampire politics \" are more important than her . xxmaj subtlety is not this show 's strong suit . xxmaj it does n't take a genius to figure out something is going on with the local dog . xxmaj although my assumption was n't dead on , it was n't that much of a surprise . xxmaj but the finale two episodes was where it really got annoying as it just shoved all the developments in your face as if you could n't possibly figure the out for yourself . xxmaj when xxmaj tara gets into the car accident , the naked lady 's face with the pig is clearly shown , and was easily recognizable when she shows up at the jail for the xxunk . xxmaj as if that was n't enough , they later show the lady again with the pig at her house . xxmaj then it 's time to wrap up the murder story . xxmaj at the end of the penultimate episode , it 's revealed that xxmaj renee is not who he says he is and most likely is the killer . xxmaj in the final episode , they shove xxmaj renee being the killer in your face . xxmaj sookie remarks that it 's odd that xxmaj renee 's thoughts do n't have an accent . i thought that was fine , as it adds to xxmaj renee being a fraud . xxmaj but the next scene is full of incriminating evidence against xxmaj renee . xxmaj they show that xxmaj renee has the tape of xxmaj xxunk with the vampire and his fiancée finds a tape in one of xxmaj renee 's boxes about how to fake a xxmaj cajun accent . xxmaj at this point it was just ridiculous . i mean xxup we xxup get xxup it ! ! ! xxmaj so blah blah blah stuff happens . xxmaj bill almost kills himself while failing to save xxmaj sookie , who still manages to kill xxmaj renee . xxmaj they start to set up season 2 by leaving unfinished issues . xxmaj the naked pig lady and xxmaj sam have a history , xxmaj lafayette has gone missing and might have been killed . xxmaj jason is in the process of being brainwashed into being a religious nut by some anti - vampire church -- which makes me care about him even less . xxmaj it 's almost surprising to see how many people absolutely love this show . i think i just expected this show to be better . i 'm interested in seeing what happens in season 2 , but if i watch it , i 'll most likely wait for the season completion .,xxbos xxmaj perhaps it 's me and my perverted ways , or the fact that i tend to have a very sick mind , but i rented this film at random one very weird night and to my great surprise , i enjoyed it . xxmaj yes , i read the synopsis on the back of the xxup dvd box and read that it had been banned for 25 years and figured i was prepared for anything it would offer . i was clearly deceived after seeing ... well ... everything , to cut a long story short . i can see why it was banned , not only for such explicit sex scenes , but for beastiality . xxmaj of course , as it is freely based on the classic fairy tale of xxmaj beauty and the xxmaj beast , a personal favorite of mine , it tells the story of a girl 's sexual awakening over a dream about a duchess being chased by a whatever - the - hell - that - thing - was - like beast with an enormous erection and a substantial amount of ejaculation . xxmaj of course , the beast gets what he wants and the duchess decides she likes it and they continue frolicking in the woods . xxmaj but that 's not all . xxmaj oh , there is so much more ! xxmaj not only do we get to see xxunk sex , but there 's also humping horses , the babysitter who gets down and dirty with the slave when she 's not humping the bed to get her ... er ... satisfaction and the daydreaming girl masturbating with rose petals . xxmaj creative and enjoyable , but it did take a while for my father to talk to me again after he watched it after i went to bed ... i was 15 . xxmaj words of advice when watching this film : make sure you 're the only one who knows you have it and watch it with the curtains closed . xxmaj it may be fun , but i doubt there are other porn films like this one .,xxbos i gave this movie a 10 because it needed to be rewarded for its scary elements and actors xxup and my god the xxunk ! xxmaj the thing is i do n't want to tell anyone anything about the acting or story because it will ruin the movie . xxmaj but i will recommend that you go straight to your nearest xxunk right now and rent it ! ( xxmaj do n't forget popcorn ! ),xxbos i 'm a big fan of xxmaj nicolas xxmaj cage and i never thought he would work on a movie like this . i could n't believe the other reviews and i thought it should n't be bad to watch it at least once ... but trust me , it is . i have n't seen the old movie .. but why would they want to remake a movie like this . xxmaj the very basic idea of a good horror movie is either it should have an extremely intelligent script or it should be extremely graphic . xxmaj this film does n't fall under any of those and just remains dumb . i just kept watching the movie hoping it would get interesting at some point , but it never does . xxmaj so this movie is a big no no for both xxmaj horror movie fans as well as for the xxmaj cage fans . xxmaj you could probably for it show up on television .\n",
              "y: CategoryList\n",
              "negative,negative,positive,positive,negative\n",
              "Path: /content/drive/My Drive/DATA-475/imdb;\n",
              "\n",
              "Test: LabelList (25000 items)\n",
              "x: TextList\n",
              "xxbos i went and saw this movie last night after being coaxed to by a few friends of mine . i 'll admit that i was reluctant to see it because from what i knew of xxmaj ashton xxmaj kutcher he was only able to do comedy . i was wrong . xxmaj kutcher played the character of xxmaj jake xxmaj fischer very well , and xxmaj kevin xxmaj costner played xxmaj ben xxmaj randall with such professionalism . xxmaj the sign of a good movie is that it can toy with our emotions . xxmaj this one did exactly that . xxmaj the entire theater ( which was sold out ) was overcome by laughter during the first half of the movie , and were moved to tears during the second half . xxmaj while exiting the theater i not only saw many women in tears , but many full grown men as well , trying desperately not to let anyone see them crying . xxmaj this movie was great , and i suggest that you go see it before you judge .,xxbos xxmaj actor turned director xxmaj bill xxmaj paxton follows up his promising debut , the xxmaj gothic - horror \" xxmaj frailty \" , with this family friendly sports drama about the 1913 xxup u.s. xxmaj open where a young xxmaj american caddy rises from his humble background to play against his xxmaj xxunk idol in what was dubbed as \" xxmaj the xxmaj greatest xxmaj game xxmaj ever xxmaj played . \" i 'm no fan of golf , and these scrappy underdog sports flicks are a dime a dozen ( most recently done to grand effect with \" xxmaj miracle \" and \" xxmaj cinderella xxmaj man \" ) , but some how this film was enthralling all the same . xxmaj the film starts with some creative opening credits ( imagine a xxmaj disneyfied version of the animated opening credits of xxup hbo 's \" xxmaj carnivale \" and \" xxmaj rome \" ) , but lumbers along slowly for its first by - the - numbers hour . xxmaj once the action moves to the xxup u.s. xxmaj open things pick up very well . xxmaj paxton does a nice job and shows a knack for effective directorial flourishes ( i loved the rain - soaked montage of the action on day two of the open ) that propel the plot further or add some unexpected psychological depth to the proceedings . xxmaj there 's some compelling character development when the xxmaj british xxmaj harry xxmaj xxunk is haunted by images of the aristocrats in black suits and top hats who destroyed his family cottage as a child to make way for a golf course . xxmaj he also does a good job of visually depicting what goes on in the players ' heads under pressure . xxmaj golf , a painfully boring sport , is brought vividly alive here . xxmaj credit should also be given the set designers and costume department for creating an engaging period - piece atmosphere of xxmaj london and xxmaj boston at the beginning of the twentieth century . xxmaj you know how this is going to end not only because it 's based on a true story but also because films in this genre follow the same template over and over , but xxmaj paxton puts on a better than average show and perhaps indicates more talent behind the camera than he ever had in front of it . xxmaj despite the formulaic nature , this is a nice and easy film to root for that deserves to find an audience .,xxbos xxmaj as a recreational xxunk with some knowledge of the sport 's history , i was pleased with xxmaj disney 's sensitivity to the issues of class in golf in the early twentieth century . xxmaj the movie depicted well the psychological battles that xxmaj harry xxmaj xxunk fought within himself , from his childhood trauma of being evicted to his own inability to break that glass ceiling that prevents him from being accepted as an equal in xxmaj english golf society . xxmaj likewise , the young xxmaj xxunk goes through his own class struggles , being a mere caddie in the eyes of the upper crust xxmaj americans who scoff at his attempts to rise above his standing . xxmaj what i loved best , however , is how this theme of class is manifested in the characters of xxmaj xxunk 's parents . xxmaj his father is a working - class drone who sees the value of hard work but is intimidated by the upper class ; his mother , however , recognizes her son 's talent and desire and encourages him to pursue his dream of competing against those who think he is inferior . xxmaj finally , the golf scenes are well photographed . xxmaj although the course used in the movie was not the actual site of the historical tournament , the little liberties taken by xxmaj disney do not detract from the beauty of the film . xxmaj there 's one little xxmaj disney moment at the pool table ; otherwise , the viewer does not really think xxmaj disney . xxmaj the ending , as in \" xxmaj miracle , \" is not some xxmaj disney creation , but one that only human history could have written .,xxbos i saw this film in a sneak preview , and it is delightful . xxmaj the cinematography is unusually creative , the acting is good , and the story is fabulous . xxmaj if this movie does not do well , it wo n't be because it does n't deserve to . xxmaj before this film , i did n't realize how charming xxmaj shia xxmaj xxunk could be . xxmaj he does a marvelous , self - contained , job as the lead . xxmaj there 's something incredibly sweet about him , and it makes the movie even better . xxmaj the other actors do a good job as well , and the film contains moments of really high suspense , more than one might expect from a movie about golf . xxmaj sports movies are a dime a dozen , but this one stands out . xxmaj this is one i 'd recommend to anyone .,xxbos xxmaj bill xxmaj paxton has taken the true story of the 1913 xxup us golf open and made a film that is about much more than an extra - ordinary game of golf . xxmaj the film also deals directly with the class tensions of the early twentieth century and touches upon the profound anti - xxmaj catholic prejudices of both the xxmaj british and xxmaj american establishments . xxmaj but at heart the film is about that perennial favourite of triumph against the odds . xxmaj the acting is exemplary throughout . xxmaj stephen xxmaj xxunk is excellent as usual , but the revelation of the movie is xxmaj shia xxunk who delivers a disciplined , dignified and highly sympathetic performance as a working class xxmaj franco - xxmaj irish kid fighting his way through the prejudices of the xxmaj new xxmaj england xxup wasp establishment . xxmaj for those who are only familiar with his slap - stick performances in \" xxmaj even xxmaj stevens \" this demonstration of his maturity is a delightful surprise . xxmaj and xxmaj josh xxmaj flitter as the ten year old caddy threatens to steal every scene in which he appears . a old fashioned movie in the best sense of the word : fine acting , clear directing and a great story that grips to the end - the final scene an affectionate nod to xxmaj casablanca is just one of the many pleasures that fill a great movie .\n",
              "y: EmptyLabelList\n",
              ",,,,\n",
              "Path: /content/drive/My Drive/DATA-475/imdb, model=SequentialRNN(\n",
              "  (0): MultiBatchEncoder(\n",
              "    (module): AWD_LSTM(\n",
              "      (encoder): Embedding(44120, 400, padding_idx=1)\n",
              "      (encoder_dp): EmbeddingDropout(\n",
              "        (emb): Embedding(44120, 400, padding_idx=1)\n",
              "      )\n",
              "      (rnns): ModuleList(\n",
              "        (0): WeightDropout(\n",
              "          (module): LSTM(400, 1152, batch_first=True)\n",
              "        )\n",
              "        (1): WeightDropout(\n",
              "          (module): LSTM(1152, 1152, batch_first=True)\n",
              "        )\n",
              "        (2): WeightDropout(\n",
              "          (module): LSTM(1152, 400, batch_first=True)\n",
              "        )\n",
              "      )\n",
              "      (input_dp): RNNDropout()\n",
              "      (hidden_dps): ModuleList(\n",
              "        (0): RNNDropout()\n",
              "        (1): RNNDropout()\n",
              "        (2): RNNDropout()\n",
              "      )\n",
              "    )\n",
              "  )\n",
              "  (1): PoolingLinearClassifier(\n",
              "    (layers): Sequential(\n",
              "      (0): BatchNorm1d(1200, eps=1e-05, momentum=0.1, affine=True, track_running_stats=True)\n",
              "      (1): Dropout(p=0.2, inplace=False)\n",
              "      (2): Linear(in_features=1200, out_features=50, bias=True)\n",
              "      (3): ReLU(inplace=True)\n",
              "      (4): BatchNorm1d(50, eps=1e-05, momentum=0.1, affine=True, track_running_stats=True)\n",
              "      (5): Dropout(p=0.1, inplace=False)\n",
              "      (6): Linear(in_features=50, out_features=2, bias=True)\n",
              "    )\n",
              "  )\n",
              "), opt_func=functools.partial(<class 'torch.optim.adam.Adam'>, betas=(0.9, 0.99)), loss_func=FlattenedLoss of CrossEntropyLoss(), metrics=[<function accuracy at 0x7f3cbaf0a378>], true_wd=True, bn_wd=True, wd=0.01, train_bn=True, path=PosixPath('/content/drive/My Drive/DATA-475/imdb'), model_dir='models', callback_fns=[functools.partial(<class 'fastai.basic_train.Recorder'>, add_time=True, silent=False)], callbacks=[RNNTrainer\n",
              "learn: RNNLearner(data=TextClasDataBunch;\n",
              "\n",
              "Train: LabelList (19999 items)\n",
              "x: TextList\n",
              "xxbos xxup wow ! xxmaj what - a - movie xxrep 11 ! i 'm not at all a fan of contemporary xxmaj italian directors . xxmaj usually i do n't like dramas . i am not a xxmaj will xxmaj smith super fan even thinking that he is a very good actor xxrep 6 . but this movie ! xxmaj it is such a great movie with a such original script and so good direction and so well acting ... wow ... it is stunning . xxmaj this movie captured my attention minute by minute and i even did not like \" xxmaj the pursuit of happiness \" ( maybe also because i did not like the acting of xxmaj will 's son who is a very bad actor while children usually seems all natural born actors , i saw him also last night in \" xxmaj the day the earth stood still \" and i confirmed my sensation that xxmaj xxunk ca n't act ) . i do n't want to write spoilers and so i do n't talk about the story but what i can say is that this movie talks about xxmaj love , xxmaj death and other feelings which i do n't like to watch in movies xxrep 4 . but xxup this xxup movie is such a super great movie . xxmaj if you have a minimum of heart you 'll do n't regret watching it,xxbos xxmaj when many people say it 's the \" worst movie i 've ever seen \" , they tend to say that about virtually any movie they did n't like . xxmaj however , of the nearly 700 movies i can remember ever seeing this one is one of two that i walked away from feeling personally insulted and angry . xxmaj this is my first movie review , by the way , and i registered with imdb just to rave at this movie 's badness . i went to see it when it was in the theaters ( myself and my two buddies were 3 of 5 people there ) , and after 15 years i ca n't remember very many specifics , but my attitude upon leaving the theater is still crystal xxunk alert --- xxmaj oh my , where to begin . xxmaj fat loser left at altar , goes on ski weekend , meets blonde bombshell who takes an interest in him , takes him home to meet the family , they 're all cannibals and he 's the main course , pathetic attempt at a dramatic escape , kicks all their butts and runs off with the brother 's girlfriend , they live happily ever after . xxmaj puke . xxmaj firstly , the gags are so bad that it took me a while to understand that they were trying to be xxup funny , and that this was a xxup comedy . xxmaj the special effects , what few there are , look like they were done 15 years earlier . xxmaj the big dramatic ending was so hokey and poorly acted that it was nearly unbearable to watch ( he knocks out the entire cannibal family with rakes laying in the lawn , that stand up xxmaj tom and xxmaj jerry style when they step on them ) . i 'm sure that there 's much , much more , but i have no intention on seeing it again for a refresher .,xxbos xxmaj the film is pretty confusing and ludicrous . xxmaj the plot is awful ... but on the plus side the acting is pretty good , with a few good shouts and rants . xxmaj sharon stone is xxup ok this time ... not even half as good as the original mind you . xxmaj the murders are n't as gory as the first one either , which is a shame . xxmaj its not the unpredictable mess everyone say it is though . xxmaj the sex is pretty graphic at times while others it is clear it is fake ( they are fully clothed ) . xxmaj the script is weak most of the time , but the scenes with banter and arguments between xxmaj dr . xxmaj glass and xxmaj washburn are highlights . xxmaj the plot twists a few times , but the ending is awful . xxmaj the tension is always constant with a huge dollop of ' xxmaj oh my god ! ' . xxmaj the chase sequences are brilliantly directed , and shots and camera angles are impressive and bring a bit of class to an otherwise , rush - felt film . xxmaj sharon stone is a bit old for this too . xxmaj the bits where we see her breasts were , in the first one , delights . xxmaj this time around , they are too horrid to describe . xxmaj the films its self is rather average , but it is worth a go . xxmaj mainly because the film does deserve some good buzz ... with the opening sequence being a highlight . xxmaj not to be critical , but if you liked the first one - leave this one . xxmaj do n't ruin the run . xxmaj you 'll be glad you left this stone unturned .,xxbos xxmaj at first glance i expected this film to be crappy because i thought the plot would be so excessively feminist . xxmaj but i was wrong . xxmaj as you maybe have read in earlier published comments , i agree in that the feminist part in this film does not bother . i never had the idea that the main character was exaggerating her position as a woman . xxmaj it 's like xxmaj guzman is presented as somebody with a spine , this in contrast to her classmates . xxmaj so i was surprised by the story , in fact , i thought it was quite good , except for the predictable end . xxmaj maybe it would 've been a better idea to give the plot a radical twist , so that the viewer is somewhat more surprised . xxmaj in addition , i 'd like to say that xxmaj rodriguez earned her respect by the way she put away her character . i ca n't really explain why , but especially in the love scenes she convinced me . xxmaj it just looked real i think . i gave it a 7 out of 10 , merely because of the dull last half hour .,xxbos xxmaj an excellent movie about two cops loving the same woman . xxmaj one of the cop ( xxmaj périer ) killed her , but all the evidences seems to incriminate the other ( xxmaj montand ) . xxmaj the unlucky xxmaj montand does nt know who is the other lover that could have killed her , and xxmaj périer does nt know either that xxmaj montand had an affair with the girl . xxmaj montand must absolutely find the killer ... and what a great ending ! xxmaj highly recommended .\n",
              "y: CategoryList\n",
              "positive,negative,negative,positive,positive\n",
              "Path: /content/drive/My Drive/DATA-475/imdb;\n",
              "\n",
              "Valid: LabelList (5001 items)\n",
              "x: TextList\n",
              "xxbos xxmaj if xxmaj bob xxmaj ludlum was to see this mini series , he would have cried . xxmaj this was complete waste of time and money . i have read the book and even though movies are not exactly what the book may be , xxup cbs wasted time and money on this and it is embarrassing to claim that this was xxmaj ludlum 's work . xxmaj may be the creator should check out the xxmaj bourne xxmaj identity with xxmaj richard xxmaj chamberlain and see how good that xxup tv series was . xxmaj poor xxmaj mira , xxmaj blair , xxmaj anjelica and xxmaj colm , why did they sign to stoop this xxunk ! !,xxbos xxmaj this show had a lot of hype but i did n't know about it until the xxunk ( season 1 ) . xxmaj someone even recommended the show to me . xxmaj but i decided that if i was going to watch it , i was going to wait until the end of the season so i could watch it in bulk . xxmaj due to the show 's format , i 'm happy i waited . i imagine it would have been fairly annoying have nearly every episode end in the middle of some cliff hanger then have to wait another week to find out what happens in the next second of the story . xxmaj somehow , this show has managed to throw in too much sex . xxmaj jason will have sex with pretty much anything that moves . xxmaj right after he finds out that one woman he had sex with was killed , he 's in bed with another woman the next night ! xxmaj then xxmaj tara and xxmaj sam get it on , despite each of them knowing that xxmaj sam is in love with xxmaj sookie . xxmaj and for some reason , xxmaj sookie gets mad when she later finds out about it -- even though she 's sleeping with a vampire . xxmaj one of the problems with the show , is that it does n't do a good job of making you care about the characters . i really did n't care for xxmaj jason at all . xxmaj along with his endless pursuit of tale , he was rude to the people who actually were concerned for him . xxmaj after a few episodes , i would n't have minded if he got killed somehow . xxmaj for that reason , i was for the most part uninterested in the murders until xxmaj sookie 's xxmaj grandmother became a victim ( since the first two were more closely involved with xxunk once xxmaj sookie and xxmaj bill have sex , the story gets a few more subplots . xxmaj tara 's mother wants an exorcism , then the exorcist lady tries to convince xxmaj tara that she should have one to remove her own demon . i was n't so much bothered by the whole exorcism thing as i know there are some people who really believe in that stuff . xxmaj however , they waste little time in showing that is it a farce right after xxmaj tara spends about $ xxunk on xxunk for her and her mother . xxmaj at other points , some of the developments happen too fast . xxmaj jason continues being a jerk , trying to sell his xxmaj grandmother 's stuff to buy vampire blood , which apparently is the new crack or something . xxmaj in his search he finds this girl who will do v ( vampire blood ) with him . xxmaj they get high , and within three days fall in love with each other and kidnap a vampire for a constant source of xxup v. xxmaj another example is when xxmaj bill has to go to a vampire tribunal . xxmaj he 's only gone for two days before xxmaj sookie starts to feel abandoned and start to wonder if he thinks \" vampire politics \" are more important than her . xxmaj subtlety is not this show 's strong suit . xxmaj it does n't take a genius to figure out something is going on with the local dog . xxmaj although my assumption was n't dead on , it was n't that much of a surprise . xxmaj but the finale two episodes was where it really got annoying as it just shoved all the developments in your face as if you could n't possibly figure the out for yourself . xxmaj when xxmaj tara gets into the car accident , the naked lady 's face with the pig is clearly shown , and was easily recognizable when she shows up at the jail for the xxunk . xxmaj as if that was n't enough , they later show the lady again with the pig at her house . xxmaj then it 's time to wrap up the murder story . xxmaj at the end of the penultimate episode , it 's revealed that xxmaj renee is not who he says he is and most likely is the killer . xxmaj in the final episode , they shove xxmaj renee being the killer in your face . xxmaj sookie remarks that it 's odd that xxmaj renee 's thoughts do n't have an accent . i thought that was fine , as it adds to xxmaj renee being a fraud . xxmaj but the next scene is full of incriminating evidence against xxmaj renee . xxmaj they show that xxmaj renee has the tape of xxmaj xxunk with the vampire and his fiancée finds a tape in one of xxmaj renee 's boxes about how to fake a xxmaj cajun accent . xxmaj at this point it was just ridiculous . i mean xxup we xxup get xxup it ! ! ! xxmaj so blah blah blah stuff happens . xxmaj bill almost kills himself while failing to save xxmaj sookie , who still manages to kill xxmaj renee . xxmaj they start to set up season 2 by leaving unfinished issues . xxmaj the naked pig lady and xxmaj sam have a history , xxmaj lafayette has gone missing and might have been killed . xxmaj jason is in the process of being brainwashed into being a religious nut by some anti - vampire church -- which makes me care about him even less . xxmaj it 's almost surprising to see how many people absolutely love this show . i think i just expected this show to be better . i 'm interested in seeing what happens in season 2 , but if i watch it , i 'll most likely wait for the season completion .,xxbos xxmaj perhaps it 's me and my perverted ways , or the fact that i tend to have a very sick mind , but i rented this film at random one very weird night and to my great surprise , i enjoyed it . xxmaj yes , i read the synopsis on the back of the xxup dvd box and read that it had been banned for 25 years and figured i was prepared for anything it would offer . i was clearly deceived after seeing ... well ... everything , to cut a long story short . i can see why it was banned , not only for such explicit sex scenes , but for beastiality . xxmaj of course , as it is freely based on the classic fairy tale of xxmaj beauty and the xxmaj beast , a personal favorite of mine , it tells the story of a girl 's sexual awakening over a dream about a duchess being chased by a whatever - the - hell - that - thing - was - like beast with an enormous erection and a substantial amount of ejaculation . xxmaj of course , the beast gets what he wants and the duchess decides she likes it and they continue frolicking in the woods . xxmaj but that 's not all . xxmaj oh , there is so much more ! xxmaj not only do we get to see xxunk sex , but there 's also humping horses , the babysitter who gets down and dirty with the slave when she 's not humping the bed to get her ... er ... satisfaction and the daydreaming girl masturbating with rose petals . xxmaj creative and enjoyable , but it did take a while for my father to talk to me again after he watched it after i went to bed ... i was 15 . xxmaj words of advice when watching this film : make sure you 're the only one who knows you have it and watch it with the curtains closed . xxmaj it may be fun , but i doubt there are other porn films like this one .,xxbos i gave this movie a 10 because it needed to be rewarded for its scary elements and actors xxup and my god the xxunk ! xxmaj the thing is i do n't want to tell anyone anything about the acting or story because it will ruin the movie . xxmaj but i will recommend that you go straight to your nearest xxunk right now and rent it ! ( xxmaj do n't forget popcorn ! ),xxbos i 'm a big fan of xxmaj nicolas xxmaj cage and i never thought he would work on a movie like this . i could n't believe the other reviews and i thought it should n't be bad to watch it at least once ... but trust me , it is . i have n't seen the old movie .. but why would they want to remake a movie like this . xxmaj the very basic idea of a good horror movie is either it should have an extremely intelligent script or it should be extremely graphic . xxmaj this film does n't fall under any of those and just remains dumb . i just kept watching the movie hoping it would get interesting at some point , but it never does . xxmaj so this movie is a big no no for both xxmaj horror movie fans as well as for the xxmaj cage fans . xxmaj you could probably for it show up on television .\n",
              "y: CategoryList\n",
              "negative,negative,positive,positive,negative\n",
              "Path: /content/drive/My Drive/DATA-475/imdb;\n",
              "\n",
              "Test: LabelList (25000 items)\n",
              "x: TextList\n",
              "xxbos i went and saw this movie last night after being coaxed to by a few friends of mine . i 'll admit that i was reluctant to see it because from what i knew of xxmaj ashton xxmaj kutcher he was only able to do comedy . i was wrong . xxmaj kutcher played the character of xxmaj jake xxmaj fischer very well , and xxmaj kevin xxmaj costner played xxmaj ben xxmaj randall with such professionalism . xxmaj the sign of a good movie is that it can toy with our emotions . xxmaj this one did exactly that . xxmaj the entire theater ( which was sold out ) was overcome by laughter during the first half of the movie , and were moved to tears during the second half . xxmaj while exiting the theater i not only saw many women in tears , but many full grown men as well , trying desperately not to let anyone see them crying . xxmaj this movie was great , and i suggest that you go see it before you judge .,xxbos xxmaj actor turned director xxmaj bill xxmaj paxton follows up his promising debut , the xxmaj gothic - horror \" xxmaj frailty \" , with this family friendly sports drama about the 1913 xxup u.s. xxmaj open where a young xxmaj american caddy rises from his humble background to play against his xxmaj xxunk idol in what was dubbed as \" xxmaj the xxmaj greatest xxmaj game xxmaj ever xxmaj played . \" i 'm no fan of golf , and these scrappy underdog sports flicks are a dime a dozen ( most recently done to grand effect with \" xxmaj miracle \" and \" xxmaj cinderella xxmaj man \" ) , but some how this film was enthralling all the same . xxmaj the film starts with some creative opening credits ( imagine a xxmaj disneyfied version of the animated opening credits of xxup hbo 's \" xxmaj carnivale \" and \" xxmaj rome \" ) , but lumbers along slowly for its first by - the - numbers hour . xxmaj once the action moves to the xxup u.s. xxmaj open things pick up very well . xxmaj paxton does a nice job and shows a knack for effective directorial flourishes ( i loved the rain - soaked montage of the action on day two of the open ) that propel the plot further or add some unexpected psychological depth to the proceedings . xxmaj there 's some compelling character development when the xxmaj british xxmaj harry xxmaj xxunk is haunted by images of the aristocrats in black suits and top hats who destroyed his family cottage as a child to make way for a golf course . xxmaj he also does a good job of visually depicting what goes on in the players ' heads under pressure . xxmaj golf , a painfully boring sport , is brought vividly alive here . xxmaj credit should also be given the set designers and costume department for creating an engaging period - piece atmosphere of xxmaj london and xxmaj boston at the beginning of the twentieth century . xxmaj you know how this is going to end not only because it 's based on a true story but also because films in this genre follow the same template over and over , but xxmaj paxton puts on a better than average show and perhaps indicates more talent behind the camera than he ever had in front of it . xxmaj despite the formulaic nature , this is a nice and easy film to root for that deserves to find an audience .,xxbos xxmaj as a recreational xxunk with some knowledge of the sport 's history , i was pleased with xxmaj disney 's sensitivity to the issues of class in golf in the early twentieth century . xxmaj the movie depicted well the psychological battles that xxmaj harry xxmaj xxunk fought within himself , from his childhood trauma of being evicted to his own inability to break that glass ceiling that prevents him from being accepted as an equal in xxmaj english golf society . xxmaj likewise , the young xxmaj xxunk goes through his own class struggles , being a mere caddie in the eyes of the upper crust xxmaj americans who scoff at his attempts to rise above his standing . xxmaj what i loved best , however , is how this theme of class is manifested in the characters of xxmaj xxunk 's parents . xxmaj his father is a working - class drone who sees the value of hard work but is intimidated by the upper class ; his mother , however , recognizes her son 's talent and desire and encourages him to pursue his dream of competing against those who think he is inferior . xxmaj finally , the golf scenes are well photographed . xxmaj although the course used in the movie was not the actual site of the historical tournament , the little liberties taken by xxmaj disney do not detract from the beauty of the film . xxmaj there 's one little xxmaj disney moment at the pool table ; otherwise , the viewer does not really think xxmaj disney . xxmaj the ending , as in \" xxmaj miracle , \" is not some xxmaj disney creation , but one that only human history could have written .,xxbos i saw this film in a sneak preview , and it is delightful . xxmaj the cinematography is unusually creative , the acting is good , and the story is fabulous . xxmaj if this movie does not do well , it wo n't be because it does n't deserve to . xxmaj before this film , i did n't realize how charming xxmaj shia xxmaj xxunk could be . xxmaj he does a marvelous , self - contained , job as the lead . xxmaj there 's something incredibly sweet about him , and it makes the movie even better . xxmaj the other actors do a good job as well , and the film contains moments of really high suspense , more than one might expect from a movie about golf . xxmaj sports movies are a dime a dozen , but this one stands out . xxmaj this is one i 'd recommend to anyone .,xxbos xxmaj bill xxmaj paxton has taken the true story of the 1913 xxup us golf open and made a film that is about much more than an extra - ordinary game of golf . xxmaj the film also deals directly with the class tensions of the early twentieth century and touches upon the profound anti - xxmaj catholic prejudices of both the xxmaj british and xxmaj american establishments . xxmaj but at heart the film is about that perennial favourite of triumph against the odds . xxmaj the acting is exemplary throughout . xxmaj stephen xxmaj xxunk is excellent as usual , but the revelation of the movie is xxmaj shia xxunk who delivers a disciplined , dignified and highly sympathetic performance as a working class xxmaj franco - xxmaj irish kid fighting his way through the prejudices of the xxmaj new xxmaj england xxup wasp establishment . xxmaj for those who are only familiar with his slap - stick performances in \" xxmaj even xxmaj stevens \" this demonstration of his maturity is a delightful surprise . xxmaj and xxmaj josh xxmaj flitter as the ten year old caddy threatens to steal every scene in which he appears . a old fashioned movie in the best sense of the word : fine acting , clear directing and a great story that grips to the end - the final scene an affectionate nod to xxmaj casablanca is just one of the many pleasures that fill a great movie .\n",
              "y: EmptyLabelList\n",
              ",,,,\n",
              "Path: /content/drive/My Drive/DATA-475/imdb, model=SequentialRNN(\n",
              "  (0): MultiBatchEncoder(\n",
              "    (module): AWD_LSTM(\n",
              "      (encoder): Embedding(44120, 400, padding_idx=1)\n",
              "      (encoder_dp): EmbeddingDropout(\n",
              "        (emb): Embedding(44120, 400, padding_idx=1)\n",
              "      )\n",
              "      (rnns): ModuleList(\n",
              "        (0): WeightDropout(\n",
              "          (module): LSTM(400, 1152, batch_first=True)\n",
              "        )\n",
              "        (1): WeightDropout(\n",
              "          (module): LSTM(1152, 1152, batch_first=True)\n",
              "        )\n",
              "        (2): WeightDropout(\n",
              "          (module): LSTM(1152, 400, batch_first=True)\n",
              "        )\n",
              "      )\n",
              "      (input_dp): RNNDropout()\n",
              "      (hidden_dps): ModuleList(\n",
              "        (0): RNNDropout()\n",
              "        (1): RNNDropout()\n",
              "        (2): RNNDropout()\n",
              "      )\n",
              "    )\n",
              "  )\n",
              "  (1): PoolingLinearClassifier(\n",
              "    (layers): Sequential(\n",
              "      (0): BatchNorm1d(1200, eps=1e-05, momentum=0.1, affine=True, track_running_stats=True)\n",
              "      (1): Dropout(p=0.2, inplace=False)\n",
              "      (2): Linear(in_features=1200, out_features=50, bias=True)\n",
              "      (3): ReLU(inplace=True)\n",
              "      (4): BatchNorm1d(50, eps=1e-05, momentum=0.1, affine=True, track_running_stats=True)\n",
              "      (5): Dropout(p=0.1, inplace=False)\n",
              "      (6): Linear(in_features=50, out_features=2, bias=True)\n",
              "    )\n",
              "  )\n",
              "), opt_func=functools.partial(<class 'torch.optim.adam.Adam'>, betas=(0.9, 0.99)), loss_func=FlattenedLoss of CrossEntropyLoss(), metrics=[<function accuracy at 0x7f3cbaf0a378>], true_wd=True, bn_wd=True, wd=0.01, train_bn=True, path=PosixPath('/content/drive/My Drive/DATA-475/imdb'), model_dir='models', callback_fns=[functools.partial(<class 'fastai.basic_train.Recorder'>, add_time=True, silent=False)], callbacks=[...], layer_groups=[Sequential(\n",
              "  (0): Embedding(44120, 400, padding_idx=1)\n",
              "  (1): EmbeddingDropout(\n",
              "    (emb): Embedding(44120, 400, padding_idx=1)\n",
              "  )\n",
              "), Sequential(\n",
              "  (0): WeightDropout(\n",
              "    (module): LSTM(400, 1152, batch_first=True)\n",
              "  )\n",
              "  (1): RNNDropout()\n",
              "), Sequential(\n",
              "  (0): WeightDropout(\n",
              "    (module): LSTM(1152, 1152, batch_first=True)\n",
              "  )\n",
              "  (1): RNNDropout()\n",
              "), Sequential(\n",
              "  (0): WeightDropout(\n",
              "    (module): LSTM(1152, 400, batch_first=True)\n",
              "  )\n",
              "  (1): RNNDropout()\n",
              "), Sequential(\n",
              "  (0): PoolingLinearClassifier(\n",
              "    (layers): Sequential(\n",
              "      (0): BatchNorm1d(1200, eps=1e-05, momentum=0.1, affine=True, track_running_stats=True)\n",
              "      (1): Dropout(p=0.2, inplace=False)\n",
              "      (2): Linear(in_features=1200, out_features=50, bias=True)\n",
              "      (3): ReLU(inplace=True)\n",
              "      (4): BatchNorm1d(50, eps=1e-05, momentum=0.1, affine=True, track_running_stats=True)\n",
              "      (5): Dropout(p=0.1, inplace=False)\n",
              "      (6): Linear(in_features=50, out_features=2, bias=True)\n",
              "    )\n",
              "  )\n",
              ")], add_time=True, silent=False)\n",
              "alpha: 2.0\n",
              "beta: 1.0], layer_groups=[Sequential(\n",
              "  (0): Embedding(44120, 400, padding_idx=1)\n",
              "  (1): EmbeddingDropout(\n",
              "    (emb): Embedding(44120, 400, padding_idx=1)\n",
              "  )\n",
              "), Sequential(\n",
              "  (0): WeightDropout(\n",
              "    (module): LSTM(400, 1152, batch_first=True)\n",
              "  )\n",
              "  (1): RNNDropout()\n",
              "), Sequential(\n",
              "  (0): WeightDropout(\n",
              "    (module): LSTM(1152, 1152, batch_first=True)\n",
              "  )\n",
              "  (1): RNNDropout()\n",
              "), Sequential(\n",
              "  (0): WeightDropout(\n",
              "    (module): LSTM(1152, 400, batch_first=True)\n",
              "  )\n",
              "  (1): RNNDropout()\n",
              "), Sequential(\n",
              "  (0): PoolingLinearClassifier(\n",
              "    (layers): Sequential(\n",
              "      (0): BatchNorm1d(1200, eps=1e-05, momentum=0.1, affine=True, track_running_stats=True)\n",
              "      (1): Dropout(p=0.2, inplace=False)\n",
              "      (2): Linear(in_features=1200, out_features=50, bias=True)\n",
              "      (3): ReLU(inplace=True)\n",
              "      (4): BatchNorm1d(50, eps=1e-05, momentum=0.1, affine=True, track_running_stats=True)\n",
              "      (5): Dropout(p=0.1, inplace=False)\n",
              "      (6): Linear(in_features=50, out_features=2, bias=True)\n",
              "    )\n",
              "  )\n",
              ")], add_time=True, silent=False)"
            ]
          },
          "metadata": {
            "tags": []
          },
          "execution_count": 10
        }
      ]
    },
    {
      "cell_type": "code",
      "metadata": {
        "id": "mLL6cVkhOmT4",
        "colab_type": "code",
        "colab": {
          "base_uri": "https://localhost:8080/",
          "height": 408
        },
        "outputId": "454064d9-5696-441c-d5ea-b5a3875bb8b3"
      },
      "source": [
        "# tune the text_classifier_learner to accpetable accuracy (>80%)\n",
        "clas_learner.lr_find()\n",
        "clas_learner.recorder.plot(suggestion=True)\n",
        "# lr = clas_learner.recorder.min_grad_lr\n",
        "# clas_learner.fit_one_cycle(4, lr)"
      ],
      "execution_count": 11,
      "outputs": [
        {
          "output_type": "display_data",
          "data": {
            "text/html": [
              "\n",
              "    <div>\n",
              "        <style>\n",
              "            /* Turns off some styling */\n",
              "            progress {\n",
              "                /* gets rid of default border in Firefox and Opera. */\n",
              "                border: none;\n",
              "                /* Needs to be in here for Safari polyfill so background images work as expected. */\n",
              "                background-size: auto;\n",
              "            }\n",
              "            .progress-bar-interrupted, .progress-bar-interrupted::-webkit-progress-bar {\n",
              "                background: #F44336;\n",
              "            }\n",
              "        </style>\n",
              "      <progress value='0' class='' max='1' style='width:300px; height:20px; vertical-align: middle;'></progress>\n",
              "      0.00% [0/1 00:00<00:00]\n",
              "    </div>\n",
              "    \n",
              "<table border=\"1\" class=\"dataframe\">\n",
              "  <thead>\n",
              "    <tr style=\"text-align: left;\">\n",
              "      <th>epoch</th>\n",
              "      <th>train_loss</th>\n",
              "      <th>valid_loss</th>\n",
              "      <th>accuracy</th>\n",
              "      <th>time</th>\n",
              "    </tr>\n",
              "  </thead>\n",
              "  <tbody>\n",
              "  </tbody>\n",
              "</table><p>\n",
              "\n",
              "    <div>\n",
              "        <style>\n",
              "            /* Turns off some styling */\n",
              "            progress {\n",
              "                /* gets rid of default border in Firefox and Opera. */\n",
              "                border: none;\n",
              "                /* Needs to be in here for Safari polyfill so background images work as expected. */\n",
              "                background-size: auto;\n",
              "            }\n",
              "            .progress-bar-interrupted, .progress-bar-interrupted::-webkit-progress-bar {\n",
              "                background: #F44336;\n",
              "            }\n",
              "        </style>\n",
              "      <progress value='95' class='' max='624' style='width:300px; height:20px; vertical-align: middle;'></progress>\n",
              "      15.22% [95/624 00:48<04:28 2.0830]\n",
              "    </div>\n",
              "    "
            ],
            "text/plain": [
              "<IPython.core.display.HTML object>"
            ]
          },
          "metadata": {
            "tags": []
          }
        },
        {
          "output_type": "stream",
          "text": [
            "LR Finder is complete, type {learner_name}.recorder.plot() to see the graph.\n",
            "Min numerical gradient: 1.10E-06\n",
            "Min loss divided by 10: 1.45E-02\n"
          ],
          "name": "stdout"
        },
        {
          "output_type": "display_data",
          "data": {
            "image/png": "[encoded data removed]",
            "text/plain": [
              "<Figure size 432x288 with 1 Axes>"
            ]
          },
          "metadata": {
            "tags": [],
            "needs_background": "light"
          }
        }
      ]
    },
    {
      "cell_type": "code",
      "metadata": {
        "id": "9gIpY9wxY9w8",
        "colab_type": "code",
        "colab": {
          "base_uri": "https://localhost:8080/",
          "height": 173
        },
        "outputId": "8716730c-6960-4079-f10e-8021e46dc655"
      },
      "source": [
        "lr = clas_learner.recorder.min_grad_lr\n",
        "clas_learner.fit_one_cycle(4, lr)"
      ],
      "execution_count": 12,
      "outputs": [
        {
          "output_type": "display_data",
          "data": {
            "text/html": [
              "<table border=\"1\" class=\"dataframe\">\n",
              "  <thead>\n",
              "    <tr style=\"text-align: left;\">\n",
              "      <th>epoch</th>\n",
              "      <th>train_loss</th>\n",
              "      <th>valid_loss</th>\n",
              "      <th>accuracy</th>\n",
              "      <th>time</th>\n",
              "    </tr>\n",
              "  </thead>\n",
              "  <tbody>\n",
              "    <tr>\n",
              "      <td>0</td>\n",
              "      <td>0.724716</td>\n",
              "      <td>0.679988</td>\n",
              "      <td>0.580084</td>\n",
              "      <td>06:19</td>\n",
              "    </tr>\n",
              "    <tr>\n",
              "      <td>1</td>\n",
              "      <td>0.703891</td>\n",
              "      <td>0.661327</td>\n",
              "      <td>0.604279</td>\n",
              "      <td>07:27</td>\n",
              "    </tr>\n",
              "    <tr>\n",
              "      <td>2</td>\n",
              "      <td>0.687333</td>\n",
              "      <td>0.643130</td>\n",
              "      <td>0.624675</td>\n",
              "      <td>07:02</td>\n",
              "    </tr>\n",
              "    <tr>\n",
              "      <td>3</td>\n",
              "      <td>0.682920</td>\n",
              "      <td>0.641488</td>\n",
              "      <td>0.623275</td>\n",
              "      <td>07:34</td>\n",
              "    </tr>\n",
              "  </tbody>\n",
              "</table>"
            ],
            "text/plain": [
              "<IPython.core.display.HTML object>"
            ]
          },
          "metadata": {
            "tags": []
          }
        }
      ]
    },
    {
      "cell_type": "code",
      "metadata": {
        "id": "6VHA0eRISBbF",
        "colab_type": "code",
        "colab": {
          "base_uri": "https://localhost:8080/",
          "height": 119
        },
        "outputId": "20b4eda5-9b76-4ffd-e808-f3c3d7d2ba57"
      },
      "source": [
        "clas_learner.predict(\"This is a horrible movie\")"
      ],
      "execution_count": 13,
      "outputs": [
        {
          "output_type": "stream",
          "text": [
            "/usr/local/lib/python3.6/dist-packages/fastai/text/data.py:339: UserWarning: This overload of nonzero is deprecated:\n",
            "\tnonzero()\n",
            "Consider using one of the following signatures instead:\n",
            "\tnonzero(*, bool as_tuple) (Triggered internally at  /pytorch/torch/csrc/utils/python_arg_parser.cpp:766.)\n",
            "  idx_min = (t != self.pad_idx).nonzero().min()\n"
          ],
          "name": "stderr"
        },
        {
          "output_type": "execute_result",
          "data": {
            "text/plain": [
              "(Category tensor(0), tensor(0), tensor([0.6287, 0.3713]))"
            ]
          },
          "metadata": {
            "tags": []
          },
          "execution_count": 13
        }
      ]
    },
    {
      "cell_type": "code",
      "metadata": {
        "id": "CXgIKlWb-Q8D",
        "colab_type": "code",
        "colab": {
          "base_uri": "https://localhost:8080/",
          "height": 34
        },
        "outputId": "b88c56fe-b7e4-42bf-ddfa-7e7d09994812"
      },
      "source": [
        "clas_learner.predict(\"This is a great movie,\")"
      ],
      "execution_count": 14,
      "outputs": [
        {
          "output_type": "execute_result",
          "data": {
            "text/plain": [
              "(Category tensor(1), tensor(1), tensor([0.2115, 0.7885]))"
            ]
          },
          "metadata": {
            "tags": []
          },
          "execution_count": 14
        }
      ]
    },
    {
      "cell_type": "code",
      "metadata": {
        "id": "mazhyIrA-R0m",
        "colab_type": "code",
        "colab": {
          "base_uri": "https://localhost:8080/",
          "height": 34
        },
        "outputId": "81cf13e7-8b19-4758-caf5-bad70be1f4d7"
      },
      "source": [
        "# Check the label mapping\n",
        "# suppose it returns {'negative': 0, 'positive': 1}\n",
        "data_clas.train_ds.y.c2i"
      ],
      "execution_count": 15,
      "outputs": [
        {
          "output_type": "execute_result",
          "data": {
            "text/plain": [
              "{'negative': 0, 'positive': 1}"
            ]
          },
          "metadata": {
            "tags": []
          },
          "execution_count": 15
        }
      ]
    },
    {
      "cell_type": "code",
      "metadata": {
        "id": "-YRl2rhMPvuW",
        "colab_type": "code",
        "colab": {}
      },
      "source": [
        "import pandas as pd\n",
        "\n",
        "\n",
        "df = pd.read_csv(path+\"/test.csv\")\n",
        "y_true = tensor(df[\"sentiment\"]==\"positive\")"
      ],
      "execution_count": 16,
      "outputs": []
    },
    {
      "cell_type": "code",
      "metadata": {
        "id": "8DgzM_y9aJrZ",
        "colab_type": "code",
        "colab": {
          "base_uri": "https://localhost:8080/",
          "height": 34
        },
        "outputId": "b85ec3a4-fe52-4ceb-822e-69f0b55f2f27"
      },
      "source": [
        "y_true"
      ],
      "execution_count": 17,
      "outputs": [
        {
          "output_type": "execute_result",
          "data": {
            "text/plain": [
              "tensor([ True,  True,  True,  ..., False, False, False])"
            ]
          },
          "metadata": {
            "tags": []
          },
          "execution_count": 17
        }
      ]
    },
    {
      "cell_type": "code",
      "metadata": {
        "id": "oRekyOZ-1qQ1",
        "colab_type": "code",
        "colab": {
          "base_uri": "https://localhost:8080/",
          "height": 311
        },
        "outputId": "9c946b34-efca-48e9-c6f1-53e475e54701"
      },
      "source": [
        "interp = TextClassificationInterpretation.from_learner(\n",
        "    clas_learner, \n",
        "    ds_type=DatasetType.Test\n",
        ")\n",
        "interp.y_true = tensor(df[\"sentiment\"]==\"positive\")\n",
        "interp.plot_confusion_matrix()"
      ],
      "execution_count": 18,
      "outputs": [
        {
          "output_type": "display_data",
          "data": {
            "text/html": [
              ""
            ],
            "text/plain": [
              "<IPython.core.display.HTML object>"
            ]
          },
          "metadata": {
            "tags": []
          }
        },
        {
          "output_type": "display_data",
          "data": {
            "image/png": "[encoded data removed]",
            "text/plain": [
              "<Figure size 432x288 with 1 Axes>"
            ]
          },
          "metadata": {
            "tags": [],
            "needs_background": "light"
          }
        }
      ]
    },
    {
      "cell_type": "code",
      "metadata": {
        "id": "Ov9w-uNT8Ldd",
        "colab_type": "code",
        "colab": {
          "base_uri": "https://localhost:8080/",
          "height": 34
        },
        "outputId": "252fa8aa-f2cb-4503-b7b9-d42d8c9aa3ac"
      },
      "source": [
        "from fastai.metrics import accuracy\n",
        "\n",
        "accuracy(interp.preds, interp.y_true)"
      ],
      "execution_count": 19,
      "outputs": [
        {
          "output_type": "execute_result",
          "data": {
            "text/plain": [
              "tensor(0.6251)"
            ]
          },
          "metadata": {
            "tags": []
          },
          "execution_count": 19
        }
      ]
    }
  ]
}